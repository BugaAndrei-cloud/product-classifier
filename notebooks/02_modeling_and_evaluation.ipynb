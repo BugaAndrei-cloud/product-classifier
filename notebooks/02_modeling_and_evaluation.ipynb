{
 "cells": [
  {
   "cell_type": "markdown",
   "metadata": {},
   "source": [
    "# # 02 - Modelare și evaluare\n",
    "# \n",
    "# În acest notebook:\n",
    "# - Împărțim datele în train/test\n",
    "# - Vectorizăm textul (TF-IDF)\n",
    "# - Antrenăm modele (Logistic Regression, Naive Bayes)\n",
    "# - Comparăm performanța\n",
    "# - Alegem și salvăm modelul final"
   ]
  },
  {
   "cell_type": "code",
   "execution_count": 25,
   "metadata": {},
   "outputs": [],
   "source": [
    "import pandas as pd\n",
    "from sklearn.model_selection import train_test_split\n",
    "from sklearn.feature_extraction.text import TfidfVectorizer\n",
    "from sklearn.linear_model import LogisticRegression\n",
    "from sklearn.naive_bayes import MultinomialNB\n",
    "from sklearn.metrics import classification_report, confusion_matrix\n",
    "import seaborn as sns\n",
    "import matplotlib.pyplot as plt\n",
    "import pickle\n"
   ]
  },
  {
   "cell_type": "code",
   "execution_count": 26,
   "metadata": {},
   "outputs": [],
   "source": [
    "# Încărcare date curățate\n",
    "df = pd.read_csv(\"../data/products.csv\")\n"
   ]
  },
  {
   "cell_type": "code",
   "execution_count": 27,
   "metadata": {},
   "outputs": [
    {
     "name": "stdout",
     "output_type": "stream",
     "text": [
      "Vectorizare completă!\n",
      "Dimensiunea setului de antrenament: (28248, 17456)\n",
      "Dimensiunea setului de test: (7063, 17456)\n"
     ]
    }
   ],
   "source": [
    "# Definim X și y\n",
    "X = df[\"Product Title\"]\n",
    "y = df[\"Category Label\"]\n",
    "\n",
    "# Împărțim datele în set de antrenament și test\n",
    "from sklearn.model_selection import train_test_split\n",
    "X_train, X_test, y_train, y_test = train_test_split(\n",
    "    X, y, test_size=0.2, random_state=42\n",
    ")\n",
    "\n",
    "# Înlocuim eventualele valori NaN cu string gol\n",
    "X_train = X_train.fillna(\"\")\n",
    "X_test = X_test.fillna(\"\")\n",
    "\n",
    "# Vectorizare TF-IDF\n",
    "from sklearn.feature_extraction.text import TfidfVectorizer\n",
    "vectorizer = TfidfVectorizer()\n",
    "X_train_vectorized = vectorizer.fit_transform(X_train)\n",
    "X_test_vectorized = vectorizer.transform(X_test)\n",
    "\n",
    "print(\"Vectorizare completă!\")\n",
    "print(f\"Dimensiunea setului de antrenament: {X_train_vectorized.shape}\")\n",
    "print(f\"Dimensiunea setului de test: {X_test_vectorized.shape}\")\n"
   ]
  },
  {
   "cell_type": "markdown",
   "metadata": {},
   "source": [
    "# ## Antrenare și evaluare modele\n"
   ]
  },
  {
   "cell_type": "code",
   "execution_count": 28,
   "metadata": {},
   "outputs": [
    {
     "name": "stdout",
     "output_type": "stream",
     "text": [
      "\n",
      "--- Antrenăm Logistic Regression ---\n",
      "Raport de clasificare pentru Logistic Regression:\n",
      "                  precision    recall  f1-score   support\n",
      "\n",
      "             CPU       0.00      0.00      0.00        13\n",
      "            CPUs       0.98      0.99      0.99       758\n",
      " Digital Cameras       0.99      0.99      0.99       542\n",
      "     Dishwashers       0.90      0.94      0.92       661\n",
      "        Freezers       0.98      0.91      0.94       437\n",
      " Fridge Freezers       0.96      0.92      0.94      1113\n",
      "         Fridges       0.85      0.91      0.88       697\n",
      "      Microwaves       1.00      0.94      0.97       469\n",
      "    Mobile Phone       0.00      0.00      0.00        12\n",
      "   Mobile Phones       0.91      1.00      0.95       804\n",
      "             TVs       0.97      0.97      0.97       723\n",
      "Washing Machines       0.95      0.94      0.94       793\n",
      "          fridge       0.00      0.00      0.00        30\n",
      "\n",
      "        accuracy                           0.94      7052\n",
      "       macro avg       0.73      0.73      0.73      7052\n",
      "    weighted avg       0.94      0.94      0.94      7052\n",
      "\n",
      "\n",
      "--- Antrenăm Naive Bayes ---\n",
      "Raport de clasificare pentru Naive Bayes:\n",
      "                  precision    recall  f1-score   support\n",
      "\n",
      "             CPU       0.00      0.00      0.00        13\n",
      "            CPUs       0.98      0.99      0.99       758\n",
      " Digital Cameras       0.99      1.00      1.00       542\n",
      "     Dishwashers       0.98      0.95      0.96       661\n",
      "        Freezers       1.00      0.52      0.69       437\n",
      " Fridge Freezers       0.74      0.98      0.85      1113\n",
      "         Fridges       0.88      0.81      0.84       697\n",
      "      Microwaves       1.00      0.95      0.97       469\n",
      "    Mobile Phone       0.00      0.00      0.00        12\n",
      "   Mobile Phones       0.98      0.99      0.99       804\n",
      "             TVs       0.99      0.98      0.98       723\n",
      "Washing Machines       0.99      0.97      0.98       793\n",
      "          fridge       0.00      0.00      0.00        30\n",
      "\n",
      "        accuracy                           0.93      7052\n",
      "       macro avg       0.73      0.70      0.71      7052\n",
      "    weighted avg       0.93      0.93      0.92      7052\n",
      "\n"
     ]
    }
   ],
   "source": [
    "from sklearn.linear_model import LogisticRegression\n",
    "from sklearn.naive_bayes import MultinomialNB\n",
    "from sklearn.metrics import classification_report\n",
    "import numpy as np\n",
    "\n",
    "# --- Curățare NaN în y_train și y_test ---\n",
    "valid_train_idx = y_train.notna()\n",
    "valid_test_idx = y_test.notna()\n",
    "\n",
    "# Transformăm boolean mask în array de indici\n",
    "train_indices = np.where(valid_train_idx)[0]\n",
    "test_indices = np.where(valid_test_idx)[0]\n",
    "\n",
    "# Slicing pe rânduri pentru matrice sparse\n",
    "X_train_vectorized_clean = X_train_vectorized[train_indices]\n",
    "y_train_clean = y_train.iloc[train_indices]\n",
    "\n",
    "X_test_vectorized_clean = X_test_vectorized[test_indices]\n",
    "y_test_clean = y_test.iloc[test_indices]\n",
    "\n",
    "# --- Definirea modelelor ---\n",
    "models = {\n",
    "    \"Logistic Regression\": LogisticRegression(max_iter=1000, random_state=42),\n",
    "    \"Naive Bayes\": MultinomialNB()\n",
    "}\n",
    "\n",
    "# --- Antrenare și evaluare modele ---\n",
    "for name, model in models.items():\n",
    "    print(f\"\\n--- Antrenăm {name} ---\")\n",
    "    model.fit(X_train_vectorized_clean, y_train_clean)\n",
    "    y_pred = model.predict(X_test_vectorized_clean)\n",
    "    print(f\"Raport de clasificare pentru {name}:\")\n",
    "    print(classification_report(y_test_clean, y_pred, zero_division=0))\n"
   ]
  },
  {
   "cell_type": "code",
   "execution_count": 29,
   "metadata": {},
   "outputs": [
    {
     "name": "stdout",
     "output_type": "stream",
     "text": [
      "Modelul final a fost salvat!\n"
     ]
    }
   ],
   "source": [
    "# Alegem Logistic Regression (exemplu)\n",
    "final_model = models[\"Logistic Regression\"]\n",
    "\n",
    "# Salvăm modelul și vectorizatorul\n",
    "with open(\"../models/final_model.pkl\", \"wb\") as f:\n",
    "    pickle.dump((final_model, vectorizer), f)\n",
    "\n",
    "print(\"Modelul final a fost salvat!\")"
   ]
  },
  {
   "cell_type": "code",
   "execution_count": 30,
   "metadata": {},
   "outputs": [
    {
     "data": {
      "image/png": "[encoded data removed]",
      "text/plain": [
       "<Figure size 1200x800 with 2 Axes>"
      ]
     },
     "metadata": {},
     "output_type": "display_data"
    }
   ],
   "source": [
    "# --- Curățare NaN în setul de test ---\n",
    "test_idx = y_test.notna()\n",
    "X_test_clean = X_test[test_idx]\n",
    "y_test_clean = y_test[test_idx]\n",
    "\n",
    "# Vectorizare TF-IDF pentru datele de test curate\n",
    "X_test_vectorized_clean = vectorizer.transform(X_test_clean)\n",
    "\n",
    "# Predicții\n",
    "y_pred = final_model.predict(X_test_vectorized_clean)\n",
    "\n",
    "# Matrice de confuzie\n",
    "cm = confusion_matrix(y_test_clean, y_pred, labels=y_train_clean.unique())\n",
    "\n",
    "# Vizualizare\n",
    "plt.figure(figsize=(12,8))\n",
    "sns.heatmap(cm, annot=False, cmap=\"Blues\")\n",
    "plt.xlabel(\"Predicted\")\n",
    "plt.ylabel(\"Actual\")\n",
    "plt.title(\"Matrice de confuzie\")\n",
    "plt.show()\n"
   ]
  },
  {
   "cell_type": "markdown",
   "metadata": {},
   "source": [
    "# ### Concluzii\n",
    "# - Logistic Regression a fost ales ca model final.\n",
    "# - Modelul și vectorizatorul au fost salvați în `models/final_model.pkl`."
   ]
  }
 ],
 "metadata": {
  "kernelspec": {
   "display_name": "Python 3",
   "language": "python",
   "name": "python3"
  },
  "language_info": {
   "codemirror_mode": {
    "name": "ipython",
    "version": 3
   },
   "file_extension": ".py",
   "mimetype": "text/x-python",
   "name": "python",
   "nbconvert_exporter": "python",
   "pygments_lexer": "ipython3",
   "version": "3.13.7"
  }
 },
 "nbformat": 4,
 "nbformat_minor": 4
}
